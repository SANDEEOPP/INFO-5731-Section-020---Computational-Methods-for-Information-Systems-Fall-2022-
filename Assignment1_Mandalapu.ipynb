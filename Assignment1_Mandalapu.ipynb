{
 "cells": [
  {
   "cell_type": "markdown",
   "metadata": {
    "colab_type": "text",
    "id": "view-in-github"
   },
   "source": [
    "<a href=\"https://colab.research.google.com/github/unt-iialab/INFO5731_Spring2020/blob/master/Assignments/INFO5731_Assignment_One.ipynb\" target=\"_parent\"><img src=\"https://colab.research.google.com/assets/colab-badge.svg\" alt=\"Open In Colab\"/></a>"
   ]
  },
  {
   "cell_type": "markdown",
   "metadata": {
    "colab_type": "text",
    "id": "Ryk8D1Q4Wsrp"
   },
   "source": [
    "# **INFO5731 Assignment One**"
   ]
  },
  {
   "cell_type": "markdown",
   "metadata": {
    "colab_type": "text",
    "id": "90_NR8c5XGWc"
   },
   "source": [
    "# Question 1\n",
    "\n",
    "(20 points). Write a Python program to generate 12 random numbers between 1 and 100. Sort the list of numbers in ascending order and print it out. Sort the list of numbers in descending order and print it out. Calculate the average for the group and print it out."
   ]
  },
  {
   "cell_type": "code",
   "execution_count": 1,
   "metadata": {
    "colab": {},
    "colab_type": "code",
    "id": "5QX6bJjGWXY9"
   },
   "outputs": [
    {
     "name": "stdout",
     "output_type": "stream",
     "text": [
      "Random integers between 1 and 100: \n",
      "[36, 83, 91, 89, 20, 93, 54, 10, 82, 18, 34, 95]\n",
      "Random  list of numbers in ascending order is: [10, 18, 20, 34, 36, 54, 82, 83, 89, 91, 93, 95]\n",
      "random list of numbers in descending order is : [95, 93, 91, 89, 83, 82, 54, 36, 34, 20, 18, 10]\n",
      "The Average for the group is: 58.75\n"
     ]
    }
   ],
   "source": [
    "# Your code here\n",
    "import random\n",
    "mylist= random.sample(range(100), 12)\n",
    "print(\"Random integers between 1 and 100: \")\n",
    "print(mylist)\n",
    "# Sorting list of Integers in ascending\n",
    "mylist.sort()\n",
    "print ('Random  list of numbers in ascending order is:', mylist)\n",
    "#sorting list in descending order\n",
    "mylist.sort(reverse=True)\n",
    "print(\"random list of numbers in descending order is :\",mylist)\n",
    "# Python program to get average of a list\n",
    "Average = sum(mylist) / len(mylist)\n",
    "print('The Average for the group is:', Average)"
   ]
  },
  {
   "cell_type": "markdown",
   "metadata": {
    "colab_type": "text",
    "id": "1F_PZdH9Sh49"
   },
   "source": [
    "# Question 2\n",
    "(25 points). Write a program that will do the following string formatting tasks:\n",
    "\n",
    "(1) Ask the user to enter two sentences.\n",
    "\n",
    "(2) Make each sentence into a list. Each element in the list should correspond to a word in the sentence. For example, if the sentence is \"Alas! Am I alive? This is my first python program\", the program should print out ['Alas, '!', 'Am', 'I', 'alive, '?', 'This', 'is', 'my', 'first', 'python', 'program'].\n",
    "\n",
    "(3) Compare the two sentences. Print out a list of words that occur in both sentences.\n",
    "\n",
    "(4) Remove any punctuation from the sentence and print it back out. It should remove at least the following characters, but it can remove more: period(“.”), comma (“,”), semicolon (“;”), and colon (“:”)\n",
    "\n",
    "(5) Count the number of vowels in the sentences. Print out each vowel and the number of times it appears in the sentences, such as: a:2, e:1, i:0, etc"
   ]
  },
  {
   "cell_type": "code",
   "execution_count": 28,
   "metadata": {
    "colab": {},
    "colab_type": "code",
    "id": "Y0oOSlsOS0cq"
   },
   "outputs": [
    {
     "name": "stdout",
     "output_type": "stream",
     "text": [
      "Enter elements of a list separated by space hello % mike\n",
      "\n",
      "\n",
      "list1:  ['hello', '%', 'mike']\n",
      "Enter elements of a list separated by space hello jack\n",
      "\n",
      "\n",
      "list2:  ['hello', 'jack']\n"
     ]
    }
   ],
   "source": [
    "# Your code here\n",
    "string1 = input('Enter elements of a list separated by space ')\n",
    "print(\"\\n\")\n",
    "list1 = string1.split()\n",
    "# print list1\n",
    "print('list1: ', list1)\n",
    "string2 = input('Enter elements of a list separated by space ')\n",
    "print(\"\\n\")\n",
    "list2 = string2.split()\n",
    "# print list2\n",
    "print('list2: ', list2)"
   ]
  },
  {
   "cell_type": "code",
   "execution_count": 29,
   "metadata": {},
   "outputs": [
    {
     "name": "stdout",
     "output_type": "stream",
     "text": [
      "list of words that occur in both sentences\n"
     ]
    },
    {
     "data": {
      "text/plain": [
       "['hello']"
      ]
     },
     "execution_count": 29,
     "metadata": {},
     "output_type": "execute_result"
    }
   ],
   "source": [
    "print(\"list of words that occur in both sentences\")\n",
    "[elements for elements in list2 if elements in list1 ]"
   ]
  },
  {
   "cell_type": "code",
   "execution_count": 31,
   "metadata": {},
   "outputs": [
    {
     "name": "stdout",
     "output_type": "stream",
     "text": [
      "hello  mike\n",
      "hello jack\n"
     ]
    }
   ],
   "source": [
    "# Python program to remove punctuation from a given string\n",
    "# punctuation marks\n",
    "punctuations = '''!()-[]{};:'\"\\,<>./?@#$%^&*_~'''\n",
    "no_punction = \"\"\n",
    "string = string1, string2\n",
    "for i in string:\n",
    "  for char in i:\n",
    "    if char not in punctuations:\n",
    "         no_punction = no_punction + char\n",
    "  print(no_punction)\n",
    "  no_punction = \"\""
   ]
  },
  {
   "cell_type": "code",
   "execution_count": 32,
   "metadata": {},
   "outputs": [
    {
     "name": "stdout",
     "output_type": "stream",
     "text": [
      "{'a': 1, 'e': 3, 'i': 1, 'o': 2, 'u': 0}\n"
     ]
    }
   ],
   "source": [
    "# string of vowels\n",
    "#the number of each vowels\n",
    "vowels = 'aeiou'\n",
    "\n",
    "count = {}.fromkeys(vowels,0)\n",
    "\n",
    "string = string1, string2\n",
    "# count the vowels\n",
    "for i in string:\n",
    "  for char in i:\n",
    "     if char in count:\n",
    "         count[char] += 1\n",
    "\n",
    "print(count)"
   ]
  },
  {
   "cell_type": "markdown",
   "metadata": {
    "colab_type": "text",
    "id": "CmFoI4jDS9nx"
   },
   "source": [
    "# Question 3 \n",
    "\n",
    "(15 points). The formula that describes the volume V of a sphere with radius r is the following:\n",
    "\n",
    "$ V=\\frac{4}{3}\\ast\\ \\pi\\ast\\ r^3 $\n",
    "\n",
    "Write a program to calculate the value of V when r is in the range of 1–10. Output the result in the following format:\n",
    "\n",
    "\tr\tV\n",
    "\t1\t…\n",
    "\t2\t…\n",
    "\t3\t…\n"
   ]
  },
  {
   "cell_type": "code",
   "execution_count": 19,
   "metadata": {
    "colab": {},
    "colab_type": "code",
    "id": "pEyqeioAT95b"
   },
   "outputs": [
    {
     "name": "stdout",
     "output_type": "stream",
     "text": [
      "r    V\n",
      "0    0.0\n",
      "1    4.1888\n",
      "2    33.5104\n",
      "3    113.09759999999999\n",
      "4    268.0832\n",
      "5    523.5999999999999\n",
      "6    904.7807999999999\n",
      "7    1436.7584\n",
      "8    2144.6656\n",
      "9    3053.6351999999997\n",
      "10    4188.799999999999\n"
     ]
    }
   ],
   "source": [
    "# Your code here\n",
    "def volume(r):\n",
    "  return (4/3*3.1416*r**3)\n",
    "\n",
    "print ('r    V')\n",
    "\n",
    "for r in range(11):\n",
    "  print (str(r) +\"    \"+str(volume(r)))"
   ]
  },
  {
   "cell_type": "markdown",
   "metadata": {
    "colab_type": "text",
    "id": "z3tBE7E-Xn5X"
   },
   "source": [
    "# Question 4\n",
    "\n",
    "(40 points). In the field of Data Science, data is often formatted as a comma-delimited (CSV) file, where each line in a file corresponds to a field's value. Refer to Chapter 9 (p. 106) for more information on comma-delimited files. To answer this question, you will need to download the file [Assignment1_denton_housing.csv](https://raw.githubusercontent.com/unt-iialab/info5731-spring2022/main/assignments/Assignment1_denton_housing.csv) included with this assignment. The file [Assignment1_denton_housing.csv](https://raw.githubusercontent.com/unt-iialab/info5731-spring2022/main/assignments/Assignment1_denton_housing.csv) contains statistics about housing in the city of Denton from 2008 to 2014. Write a program to implement the following questions.\n",
    "\n",
    "(1) (10 pts) Calculate the difference in the number of Occupied Housing Units from year to year and print it. The difference must be calculated for the consecutive years such as 2008-2009, 2009-2010 etc. Finally, print the values in the ascending order.\n",
    "\n",
    "(2) (10 pts) For all the years, calculate the percentage of housing units which are vacant an occupied. Print the results in the following format:\n",
    "\n",
    "Year Vacant Housing Units Occupied Housing Units\n",
    "\n",
    "    2008  30%   70%                          \n",
    "\t2009 ----- -----\n",
    "\t2010 ----- -----\n",
    "    2011 ----- -----\n",
    "\t2012 ----- -----\n",
    "    2013 ----- -----\n",
    "\t2014 ----- -----\n",
    "  \n",
    "  \n",
    "\n",
    "(3) (10 pts) Calculate and print the valued and years in which the highest number of housing units were vacant and occupied. Print the results in the following format:  \n",
    "\n",
    "                              Year\tValue\n",
    "\tVacant Housing Units\t  -----   -----\n",
    "\tOccupied Housing Units\t-----   -----\n",
    "\n",
    "(4) (10 pts) Calculate the harmonic mean of the total housing units and print it out. You can find the information about harmonic mean here: https://ncalculators.com/statistics/harmonic-mean-calculator.htm"
   ]
  },
  {
   "cell_type": "code",
   "execution_count": 48,
   "metadata": {
    "colab": {},
    "colab_type": "code",
    "id": "lqGYuHBhcsRH"
   },
   "outputs": [
    {
     "data": {
      "text/html": [
       "<div>\n",
       "<style scoped>\n",
       "    .dataframe tbody tr th:only-of-type {\n",
       "        vertical-align: middle;\n",
       "    }\n",
       "\n",
       "    .dataframe tbody tr th {\n",
       "        vertical-align: top;\n",
       "    }\n",
       "\n",
       "    .dataframe thead th {\n",
       "        text-align: right;\n",
       "    }\n",
       "</style>\n",
       "<table border=\"1\" class=\"dataframe\">\n",
       "  <thead>\n",
       "    <tr style=\"text-align: right;\">\n",
       "      <th></th>\n",
       "      <th>year</th>\n",
       "      <th>title_field</th>\n",
       "      <th>value</th>\n",
       "    </tr>\n",
       "  </thead>\n",
       "  <tbody>\n",
       "    <tr>\n",
       "      <th>0</th>\n",
       "      <td>2014</td>\n",
       "      <td>Total Housing Units</td>\n",
       "      <td>49109</td>\n",
       "    </tr>\n",
       "    <tr>\n",
       "      <th>1</th>\n",
       "      <td>2014</td>\n",
       "      <td>Vacant Housing Units</td>\n",
       "      <td>2814</td>\n",
       "    </tr>\n",
       "    <tr>\n",
       "      <th>2</th>\n",
       "      <td>2014</td>\n",
       "      <td>Occupied Housing Units</td>\n",
       "      <td>46295</td>\n",
       "    </tr>\n",
       "    <tr>\n",
       "      <th>3</th>\n",
       "      <td>2013</td>\n",
       "      <td>Total Housing Units</td>\n",
       "      <td>47888</td>\n",
       "    </tr>\n",
       "    <tr>\n",
       "      <th>4</th>\n",
       "      <td>2013</td>\n",
       "      <td>Vacant Housing Units</td>\n",
       "      <td>4215</td>\n",
       "    </tr>\n",
       "    <tr>\n",
       "      <th>5</th>\n",
       "      <td>2013</td>\n",
       "      <td>Occupied Housing Units</td>\n",
       "      <td>43673</td>\n",
       "    </tr>\n",
       "    <tr>\n",
       "      <th>6</th>\n",
       "      <td>2012</td>\n",
       "      <td>Total Housing Units</td>\n",
       "      <td>45121</td>\n",
       "    </tr>\n",
       "    <tr>\n",
       "      <th>7</th>\n",
       "      <td>2012</td>\n",
       "      <td>Vacant Housing Units</td>\n",
       "      <td>3013</td>\n",
       "    </tr>\n",
       "    <tr>\n",
       "      <th>8</th>\n",
       "      <td>2012</td>\n",
       "      <td>Occupied Housing Units</td>\n",
       "      <td>42108</td>\n",
       "    </tr>\n",
       "    <tr>\n",
       "      <th>9</th>\n",
       "      <td>2011</td>\n",
       "      <td>Total Housing Units</td>\n",
       "      <td>44917</td>\n",
       "    </tr>\n",
       "    <tr>\n",
       "      <th>10</th>\n",
       "      <td>2011</td>\n",
       "      <td>Vacant Housing Units</td>\n",
       "      <td>4213</td>\n",
       "    </tr>\n",
       "    <tr>\n",
       "      <th>11</th>\n",
       "      <td>2011</td>\n",
       "      <td>Occupied Housing Units</td>\n",
       "      <td>40704</td>\n",
       "    </tr>\n",
       "    <tr>\n",
       "      <th>12</th>\n",
       "      <td>2010</td>\n",
       "      <td>Total Housing Units</td>\n",
       "      <td>44642</td>\n",
       "    </tr>\n",
       "    <tr>\n",
       "      <th>13</th>\n",
       "      <td>2010</td>\n",
       "      <td>Vacant Housing Units</td>\n",
       "      <td>3635</td>\n",
       "    </tr>\n",
       "    <tr>\n",
       "      <th>14</th>\n",
       "      <td>2010</td>\n",
       "      <td>Occupied Housing Units</td>\n",
       "      <td>41007</td>\n",
       "    </tr>\n",
       "    <tr>\n",
       "      <th>15</th>\n",
       "      <td>2009</td>\n",
       "      <td>Total Housing Units</td>\n",
       "      <td>39499</td>\n",
       "    </tr>\n",
       "    <tr>\n",
       "      <th>16</th>\n",
       "      <td>2009</td>\n",
       "      <td>Vacant Housing Units</td>\n",
       "      <td>3583</td>\n",
       "    </tr>\n",
       "    <tr>\n",
       "      <th>17</th>\n",
       "      <td>2009</td>\n",
       "      <td>Occupied Housing Units</td>\n",
       "      <td>35916</td>\n",
       "    </tr>\n",
       "    <tr>\n",
       "      <th>18</th>\n",
       "      <td>2008</td>\n",
       "      <td>Total Housing Units</td>\n",
       "      <td>41194</td>\n",
       "    </tr>\n",
       "    <tr>\n",
       "      <th>19</th>\n",
       "      <td>2008</td>\n",
       "      <td>Vacant Housing Units</td>\n",
       "      <td>4483</td>\n",
       "    </tr>\n",
       "    <tr>\n",
       "      <th>20</th>\n",
       "      <td>2008</td>\n",
       "      <td>Occupied Housing Units</td>\n",
       "      <td>36711</td>\n",
       "    </tr>\n",
       "    <tr>\n",
       "      <th>21</th>\n",
       "      <td>2014</td>\n",
       "      <td>Owner Occupied</td>\n",
       "      <td>21427</td>\n",
       "    </tr>\n",
       "    <tr>\n",
       "      <th>22</th>\n",
       "      <td>2014</td>\n",
       "      <td>Renter Occupied</td>\n",
       "      <td>24868</td>\n",
       "    </tr>\n",
       "    <tr>\n",
       "      <th>23</th>\n",
       "      <td>2013</td>\n",
       "      <td>Owner Occupied</td>\n",
       "      <td>20845</td>\n",
       "    </tr>\n",
       "    <tr>\n",
       "      <th>24</th>\n",
       "      <td>2013</td>\n",
       "      <td>Renter Occupied</td>\n",
       "      <td>22828</td>\n",
       "    </tr>\n",
       "    <tr>\n",
       "      <th>25</th>\n",
       "      <td>2012</td>\n",
       "      <td>Owner Occupied</td>\n",
       "      <td>20068</td>\n",
       "    </tr>\n",
       "    <tr>\n",
       "      <th>26</th>\n",
       "      <td>2012</td>\n",
       "      <td>Renter Occupied</td>\n",
       "      <td>22040</td>\n",
       "    </tr>\n",
       "    <tr>\n",
       "      <th>27</th>\n",
       "      <td>2011</td>\n",
       "      <td>Owner Occupied</td>\n",
       "      <td>18478</td>\n",
       "    </tr>\n",
       "    <tr>\n",
       "      <th>28</th>\n",
       "      <td>2011</td>\n",
       "      <td>Renter Occupied</td>\n",
       "      <td>22226</td>\n",
       "    </tr>\n",
       "    <tr>\n",
       "      <th>29</th>\n",
       "      <td>2010</td>\n",
       "      <td>Owner Occupied</td>\n",
       "      <td>18867</td>\n",
       "    </tr>\n",
       "    <tr>\n",
       "      <th>30</th>\n",
       "      <td>2010</td>\n",
       "      <td>Renter Occupied</td>\n",
       "      <td>22140</td>\n",
       "    </tr>\n",
       "    <tr>\n",
       "      <th>31</th>\n",
       "      <td>2009</td>\n",
       "      <td>Owner Occupied</td>\n",
       "      <td>18057</td>\n",
       "    </tr>\n",
       "    <tr>\n",
       "      <th>32</th>\n",
       "      <td>2009</td>\n",
       "      <td>Renter Occupied</td>\n",
       "      <td>17859</td>\n",
       "    </tr>\n",
       "    <tr>\n",
       "      <th>33</th>\n",
       "      <td>2008</td>\n",
       "      <td>Owner Occupied</td>\n",
       "      <td>17340</td>\n",
       "    </tr>\n",
       "    <tr>\n",
       "      <th>34</th>\n",
       "      <td>2008</td>\n",
       "      <td>Renter Occupied</td>\n",
       "      <td>19371</td>\n",
       "    </tr>\n",
       "    <tr>\n",
       "      <th>35</th>\n",
       "      <td>2014</td>\n",
       "      <td>Median Gross Rent</td>\n",
       "      <td>905</td>\n",
       "    </tr>\n",
       "    <tr>\n",
       "      <th>36</th>\n",
       "      <td>2013</td>\n",
       "      <td>Median Gross Rent</td>\n",
       "      <td>887</td>\n",
       "    </tr>\n",
       "    <tr>\n",
       "      <th>37</th>\n",
       "      <td>2012</td>\n",
       "      <td>Median Gross Rent</td>\n",
       "      <td>842</td>\n",
       "    </tr>\n",
       "    <tr>\n",
       "      <th>38</th>\n",
       "      <td>2011</td>\n",
       "      <td>Median Gross Rent</td>\n",
       "      <td>821</td>\n",
       "    </tr>\n",
       "    <tr>\n",
       "      <th>39</th>\n",
       "      <td>2010</td>\n",
       "      <td>Median Gross Rent</td>\n",
       "      <td>780</td>\n",
       "    </tr>\n",
       "    <tr>\n",
       "      <th>40</th>\n",
       "      <td>2009</td>\n",
       "      <td>Median Gross Rent</td>\n",
       "      <td>769</td>\n",
       "    </tr>\n",
       "    <tr>\n",
       "      <th>41</th>\n",
       "      <td>2008</td>\n",
       "      <td>Median Gross Rent</td>\n",
       "      <td>768</td>\n",
       "    </tr>\n",
       "  </tbody>\n",
       "</table>\n",
       "</div>"
      ],
      "text/plain": [
       "    year             title_field  value\n",
       "0   2014     Total Housing Units  49109\n",
       "1   2014    Vacant Housing Units   2814\n",
       "2   2014  Occupied Housing Units  46295\n",
       "3   2013     Total Housing Units  47888\n",
       "4   2013    Vacant Housing Units   4215\n",
       "5   2013  Occupied Housing Units  43673\n",
       "6   2012     Total Housing Units  45121\n",
       "7   2012    Vacant Housing Units   3013\n",
       "8   2012  Occupied Housing Units  42108\n",
       "9   2011     Total Housing Units  44917\n",
       "10  2011    Vacant Housing Units   4213\n",
       "11  2011  Occupied Housing Units  40704\n",
       "12  2010     Total Housing Units  44642\n",
       "13  2010    Vacant Housing Units   3635\n",
       "14  2010  Occupied Housing Units  41007\n",
       "15  2009     Total Housing Units  39499\n",
       "16  2009    Vacant Housing Units   3583\n",
       "17  2009  Occupied Housing Units  35916\n",
       "18  2008     Total Housing Units  41194\n",
       "19  2008    Vacant Housing Units   4483\n",
       "20  2008  Occupied Housing Units  36711\n",
       "21  2014          Owner Occupied  21427\n",
       "22  2014         Renter Occupied  24868\n",
       "23  2013          Owner Occupied  20845\n",
       "24  2013         Renter Occupied  22828\n",
       "25  2012          Owner Occupied  20068\n",
       "26  2012         Renter Occupied  22040\n",
       "27  2011          Owner Occupied  18478\n",
       "28  2011         Renter Occupied  22226\n",
       "29  2010          Owner Occupied  18867\n",
       "30  2010         Renter Occupied  22140\n",
       "31  2009          Owner Occupied  18057\n",
       "32  2009         Renter Occupied  17859\n",
       "33  2008          Owner Occupied  17340\n",
       "34  2008         Renter Occupied  19371\n",
       "35  2014       Median Gross Rent    905\n",
       "36  2013       Median Gross Rent    887\n",
       "37  2012       Median Gross Rent    842\n",
       "38  2011       Median Gross Rent    821\n",
       "39  2010       Median Gross Rent    780\n",
       "40  2009       Median Gross Rent    769\n",
       "41  2008       Median Gross Rent    768"
      ]
     },
     "execution_count": 48,
     "metadata": {},
     "output_type": "execute_result"
    }
   ],
   "source": [
    "# Your code here\n",
    "import pandas as pd\n",
    "df = pd.read_csv(\"Assignment1_denton_housing.csv\")\n",
    "df"
   ]
  },
  {
   "cell_type": "code",
   "execution_count": 55,
   "metadata": {},
   "outputs": [
    {
     "data": {
      "text/plain": [
       "17   -5091.0\n",
       "5    -2622.0\n",
       "8    -1565.0\n",
       "11   -1404.0\n",
       "14     303.0\n",
       "20     795.0\n",
       "2        NaN\n",
       "Name: value, dtype: float64"
      ]
     },
     "execution_count": 55,
     "metadata": {},
     "output_type": "execute_result"
    }
   ],
   "source": [
    "#1\n",
    "#diff in the number of Occupied Housing Units from year to year \n",
    "df = df[df.title_field == 'Occupied Housing Units' ]\n",
    "df = df.value\n",
    "df.diff().sort_values()"
   ]
  },
  {
   "cell_type": "code",
   "execution_count": 60,
   "metadata": {},
   "outputs": [
    {
     "name": "stdout",
     "output_type": "stream",
     "text": [
      "   year  occupied_housing  vacant_housing\n",
      "0  2008         89.117347       10.882653\n",
      "1  2009         90.928884        9.071116\n",
      "2  2010         91.857444        8.142556\n",
      "3  2011         90.620478        9.379522\n",
      "4  2012         93.322400        6.677600\n",
      "5  2013         91.198212        8.801788\n",
      "6  2014         94.269889        5.730111\n"
     ]
    }
   ],
   "source": [
    "#2\n",
    "#For all the years, calculate the percentage of housing units which are vacant an occupied. Print the results in the following format:\n",
    "#Year Vacant Housing Units Occupied Housing Units\n",
    "df = pd.read_csv(\"Assignment1_denton_housing.csv\")\n",
    "df_occupied_house = df[df['title_field'] == 'Occupied Housing Units'].sort_values(by = ['year'])\n",
    "df_vacant_house = df[df['title_field'] == 'Vacant Housing Units'].sort_values(by = ['year'])\n",
    "df_merged = pd.merge(df_occupied_house,df_vacant_house,on=['year'])\n",
    "df_merged['occupied_housing'] = (df_merged['value_x']/(df_merged['value_x']+df_merged['value_y']))*100\n",
    "df_merged['vacant_housing'] = (df_merged['value_y']/(df_merged['value_x']+df_merged['value_y']))*100\n",
    "final_table = df_merged[['year','occupied_housing','vacant_housing']]\n",
    "print(final_table)"
   ]
  },
  {
   "cell_type": "code",
   "execution_count": 61,
   "metadata": {},
   "outputs": [
    {
     "name": "stdout",
     "output_type": "stream",
     "text": [
      "               title_field  year  value\n",
      "19    Vacant Housing Units  2008   4483\n",
      "2   Occupied Housing Units  2014  46295\n"
     ]
    }
   ],
   "source": [
    "#3\n",
    "#here we can see the values and years in which the highest number of housing units were vacant and occupied\n",
    "df = pd.read_csv(\"Assignment1_denton_housing.csv\")\n",
    "occupied_max = df.loc[df['title_field'] == 'Occupied Housing Units','value'].max()\n",
    "df_result1 = df.loc[df['value'] == occupied_max]\n",
    "final_1 = df_result1[['title_field', 'year', 'value']]\n",
    "vaccant_max = df.loc[df['title_field'] == 'Vacant Housing Units','value'].max()\n",
    "df_result2 = df.loc[df['value'] == vaccant_max]\n",
    "final_2 = df_result2[['title_field', 'year', 'value']]\n",
    "df_final = pd.concat([final_2, final_1])\n",
    "print (df_final)"
   ]
  },
  {
   "cell_type": "code",
   "execution_count": 62,
   "metadata": {},
   "outputs": [
    {
     "name": "stdout",
     "output_type": "stream",
     "text": [
      "The harmonic mean of the total housing units:\n"
     ]
    },
    {
     "data": {
      "text/plain": [
       "44398.28543969185"
      ]
     },
     "execution_count": 62,
     "metadata": {},
     "output_type": "execute_result"
    }
   ],
   "source": [
    "#4\n",
    "#import stat\n",
    "import statistics\n",
    "df = pd.read_csv(\"Assignment1_denton_housing.csv\")\n",
    "all_elements = df.loc[df['title_field'] == 'Total Housing Units', 'value'].values\n",
    "#statistics.harmonic_mean(data)\n",
    "print(\"The harmonic mean of the total housing units:\")\n",
    "statistics.harmonic_mean(all_elements)"
   ]
  },
  {
   "cell_type": "code",
   "execution_count": null,
   "metadata": {},
   "outputs": [],
   "source": []
  }
 ],
 "metadata": {
  "colab": {
   "authorship_tag": "ABX9TyOAjsNCkNulTpzgRQbHdy3f",
   "collapsed_sections": [],
   "include_colab_link": true,
   "name": "INFO5731_Assignment_One.ipynb",
   "provenance": []
  },
  "kernelspec": {
   "display_name": "Python 3 (ipykernel)",
   "language": "python",
   "name": "python3"
  },
  "language_info": {
   "codemirror_mode": {
    "name": "ipython",
    "version": 3
   },
   "file_extension": ".py",
   "mimetype": "text/x-python",
   "name": "python",
   "nbconvert_exporter": "python",
   "pygments_lexer": "ipython3",
   "version": "3.9.7"
  }
 },
 "nbformat": 4,
 "nbformat_minor": 1
}
